{
  "nbformat": 4,
  "nbformat_minor": 0,
  "metadata": {
    "colab": {
      "name": "test-sree.ipynb",
      "provenance": [],
      "mount_file_id": "https://github.com/gabhijith/pyghack_covid19/blob/master/test_sree.ipynb",
      "authorship_tag": "ABX9TyP5RiyJLDuCexi1zNQdCxcS",
      "include_colab_link": true
    },
    "kernelspec": {
      "name": "python3",
      "display_name": "Python 3"
    }
  },
  "cells": [
    {
      "cell_type": "markdown",
      "metadata": {
        "id": "view-in-github",
        "colab_type": "text"
      },
      "source": [
        "<a href=\"https://colab.research.google.com/github/gabhijith/pyghack_covid19/blob/master/test_sree.ipynb\" target=\"_parent\"><img src=\"https://colab.research.google.com/assets/colab-badge.svg\" alt=\"Open In Colab\"/></a>"
      ]
    },
    {
      "cell_type": "code",
      "metadata": {
        "id": "rA77peAQfOFU",
        "colab_type": "code",
        "colab": {}
      },
      "source": [
        "import numpy as np\n",
        "import pandas as pd"
      ],
      "execution_count": 16,
      "outputs": []
    },
    {
      "cell_type": "code",
      "metadata": {
        "id": "wY0cSrUffSBi",
        "colab_type": "code",
        "colab": {
          "base_uri": "https://localhost:8080/",
          "height": 54
        },
        "outputId": "19bed6e4-1429-488b-ce8f-5309a4fc8aa7"
      },
      "source": [
        "from google.colab import drive\n",
        "drive.mount('/content/drive')"
      ],
      "execution_count": 2,
      "outputs": [
        {
          "output_type": "stream",
          "text": [
            "Drive already mounted at /content/drive; to attempt to forcibly remount, call drive.mount(\"/content/drive\", force_remount=True).\n"
          ],
          "name": "stdout"
        }
      ]
    },
    {
      "cell_type": "code",
      "metadata": {
        "id": "xyXjb9Bblc-x",
        "colab_type": "code",
        "colab": {}
      },
      "source": [
        "maskdf = pd.read_csv('/content/drive/My Drive/pyghack_data/mask-use-by-county.csv')"
      ],
      "execution_count": 56,
      "outputs": []
    },
    {
      "cell_type": "code",
      "metadata": {
        "id": "sbxL_AwPqb3O",
        "colab_type": "code",
        "colab": {}
      },
      "source": [
        "maskdf = maskdf.rename(columns={\"COUNTYFP\": \"fips\"})\n",
        "maskdf['fips'] = maskdf['fips'].astype(float)"
      ],
      "execution_count": 57,
      "outputs": []
    },
    {
      "cell_type": "code",
      "metadata": {
        "id": "NxwY42jRldBy",
        "colab_type": "code",
        "colab": {
          "base_uri": "https://localhost:8080/",
          "height": 204
        },
        "outputId": "09c06ff9-8435-43df-bbe7-eba5586244b5"
      },
      "source": [
        "maskdf.head()"
      ],
      "execution_count": 58,
      "outputs": [
        {
          "output_type": "execute_result",
          "data": {
            "text/html": [
              "<div>\n",
              "<style scoped>\n",
              "    .dataframe tbody tr th:only-of-type {\n",
              "        vertical-align: middle;\n",
              "    }\n",
              "\n",
              "    .dataframe tbody tr th {\n",
              "        vertical-align: top;\n",
              "    }\n",
              "\n",
              "    .dataframe thead th {\n",
              "        text-align: right;\n",
              "    }\n",
              "</style>\n",
              "<table border=\"1\" class=\"dataframe\">\n",
              "  <thead>\n",
              "    <tr style=\"text-align: right;\">\n",
              "      <th></th>\n",
              "      <th>fips</th>\n",
              "      <th>NEVER</th>\n",
              "      <th>RARELY</th>\n",
              "      <th>SOMETIMES</th>\n",
              "      <th>FREQUENTLY</th>\n",
              "      <th>ALWAYS</th>\n",
              "    </tr>\n",
              "  </thead>\n",
              "  <tbody>\n",
              "    <tr>\n",
              "      <th>0</th>\n",
              "      <td>1001.0</td>\n",
              "      <td>0.053</td>\n",
              "      <td>0.074</td>\n",
              "      <td>0.134</td>\n",
              "      <td>0.295</td>\n",
              "      <td>0.444</td>\n",
              "    </tr>\n",
              "    <tr>\n",
              "      <th>1</th>\n",
              "      <td>1003.0</td>\n",
              "      <td>0.083</td>\n",
              "      <td>0.059</td>\n",
              "      <td>0.098</td>\n",
              "      <td>0.323</td>\n",
              "      <td>0.436</td>\n",
              "    </tr>\n",
              "    <tr>\n",
              "      <th>2</th>\n",
              "      <td>1005.0</td>\n",
              "      <td>0.067</td>\n",
              "      <td>0.121</td>\n",
              "      <td>0.120</td>\n",
              "      <td>0.201</td>\n",
              "      <td>0.491</td>\n",
              "    </tr>\n",
              "    <tr>\n",
              "      <th>3</th>\n",
              "      <td>1007.0</td>\n",
              "      <td>0.020</td>\n",
              "      <td>0.034</td>\n",
              "      <td>0.096</td>\n",
              "      <td>0.278</td>\n",
              "      <td>0.572</td>\n",
              "    </tr>\n",
              "    <tr>\n",
              "      <th>4</th>\n",
              "      <td>1009.0</td>\n",
              "      <td>0.053</td>\n",
              "      <td>0.114</td>\n",
              "      <td>0.180</td>\n",
              "      <td>0.194</td>\n",
              "      <td>0.459</td>\n",
              "    </tr>\n",
              "  </tbody>\n",
              "</table>\n",
              "</div>"
            ],
            "text/plain": [
              "     fips  NEVER  RARELY  SOMETIMES  FREQUENTLY  ALWAYS\n",
              "0  1001.0  0.053   0.074      0.134       0.295   0.444\n",
              "1  1003.0  0.083   0.059      0.098       0.323   0.436\n",
              "2  1005.0  0.067   0.121      0.120       0.201   0.491\n",
              "3  1007.0  0.020   0.034      0.096       0.278   0.572\n",
              "4  1009.0  0.053   0.114      0.180       0.194   0.459"
            ]
          },
          "metadata": {
            "tags": []
          },
          "execution_count": 58
        }
      ]
    },
    {
      "cell_type": "code",
      "metadata": {
        "id": "JNQkvBb-ldEl",
        "colab_type": "code",
        "colab": {}
      },
      "source": [
        "cdeath_df = pd.read_csv('/content/drive/My Drive/pyghack_data/us-counties_coviddeaths.csv')"
      ],
      "execution_count": 60,
      "outputs": []
    },
    {
      "cell_type": "code",
      "metadata": {
        "id": "sWvCFABtldHL",
        "colab_type": "code",
        "colab": {
          "base_uri": "https://localhost:8080/",
          "height": 204
        },
        "outputId": "1c0d8535-8f8d-4010-ae89-b7ce11b62305"
      },
      "source": [
        "cdeath_df.head()"
      ],
      "execution_count": 61,
      "outputs": [
        {
          "output_type": "execute_result",
          "data": {
            "text/html": [
              "<div>\n",
              "<style scoped>\n",
              "    .dataframe tbody tr th:only-of-type {\n",
              "        vertical-align: middle;\n",
              "    }\n",
              "\n",
              "    .dataframe tbody tr th {\n",
              "        vertical-align: top;\n",
              "    }\n",
              "\n",
              "    .dataframe thead th {\n",
              "        text-align: right;\n",
              "    }\n",
              "</style>\n",
              "<table border=\"1\" class=\"dataframe\">\n",
              "  <thead>\n",
              "    <tr style=\"text-align: right;\">\n",
              "      <th></th>\n",
              "      <th>date</th>\n",
              "      <th>county</th>\n",
              "      <th>state</th>\n",
              "      <th>fips</th>\n",
              "      <th>cases</th>\n",
              "      <th>deaths</th>\n",
              "      <th>confirmed_cases</th>\n",
              "      <th>confirmed_deaths</th>\n",
              "      <th>probable_cases</th>\n",
              "      <th>probable_deaths</th>\n",
              "    </tr>\n",
              "  </thead>\n",
              "  <tbody>\n",
              "    <tr>\n",
              "      <th>0</th>\n",
              "      <td>2020-09-24</td>\n",
              "      <td>Autauga</td>\n",
              "      <td>Alabama</td>\n",
              "      <td>1001.0</td>\n",
              "      <td>1738</td>\n",
              "      <td>25.0</td>\n",
              "      <td>1565.0</td>\n",
              "      <td>24.0</td>\n",
              "      <td>173.0</td>\n",
              "      <td>1.0</td>\n",
              "    </tr>\n",
              "    <tr>\n",
              "      <th>1</th>\n",
              "      <td>2020-09-24</td>\n",
              "      <td>Baldwin</td>\n",
              "      <td>Alabama</td>\n",
              "      <td>1003.0</td>\n",
              "      <td>5165</td>\n",
              "      <td>50.0</td>\n",
              "      <td>4979.0</td>\n",
              "      <td>46.0</td>\n",
              "      <td>186.0</td>\n",
              "      <td>4.0</td>\n",
              "    </tr>\n",
              "    <tr>\n",
              "      <th>2</th>\n",
              "      <td>2020-09-24</td>\n",
              "      <td>Barbour</td>\n",
              "      <td>Alabama</td>\n",
              "      <td>1005.0</td>\n",
              "      <td>857</td>\n",
              "      <td>7.0</td>\n",
              "      <td>657.0</td>\n",
              "      <td>7.0</td>\n",
              "      <td>200.0</td>\n",
              "      <td>0.0</td>\n",
              "    </tr>\n",
              "    <tr>\n",
              "      <th>3</th>\n",
              "      <td>2020-09-24</td>\n",
              "      <td>Bibb</td>\n",
              "      <td>Alabama</td>\n",
              "      <td>1007.0</td>\n",
              "      <td>642</td>\n",
              "      <td>10.0</td>\n",
              "      <td>611.0</td>\n",
              "      <td>6.0</td>\n",
              "      <td>31.0</td>\n",
              "      <td>4.0</td>\n",
              "    </tr>\n",
              "    <tr>\n",
              "      <th>4</th>\n",
              "      <td>2020-09-24</td>\n",
              "      <td>Blount</td>\n",
              "      <td>Alabama</td>\n",
              "      <td>1009.0</td>\n",
              "      <td>1594</td>\n",
              "      <td>15.0</td>\n",
              "      <td>1236.0</td>\n",
              "      <td>15.0</td>\n",
              "      <td>358.0</td>\n",
              "      <td>0.0</td>\n",
              "    </tr>\n",
              "  </tbody>\n",
              "</table>\n",
              "</div>"
            ],
            "text/plain": [
              "         date   county  ... probable_cases  probable_deaths\n",
              "0  2020-09-24  Autauga  ...          173.0              1.0\n",
              "1  2020-09-24  Baldwin  ...          186.0              4.0\n",
              "2  2020-09-24  Barbour  ...          200.0              0.0\n",
              "3  2020-09-24     Bibb  ...           31.0              4.0\n",
              "4  2020-09-24   Blount  ...          358.0              0.0\n",
              "\n",
              "[5 rows x 10 columns]"
            ]
          },
          "metadata": {
            "tags": []
          },
          "execution_count": 61
        }
      ]
    },
    {
      "cell_type": "code",
      "metadata": {
        "id": "zKULmE1XldKM",
        "colab_type": "code",
        "colab": {}
      },
      "source": [
        "coviddf = cdeath_df.merge(maskdf, on=['fips'],how='left')"
      ],
      "execution_count": 72,
      "outputs": []
    },
    {
      "cell_type": "code",
      "metadata": {
        "id": "AiuXeKMNsmag",
        "colab_type": "code",
        "colab": {}
      },
      "source": [
        "coviddf = coviddf.drop(columns=['date'])"
      ],
      "execution_count": 73,
      "outputs": []
    },
    {
      "cell_type": "code",
      "metadata": {
        "id": "O6jUwMShpioL",
        "colab_type": "code",
        "colab": {
          "base_uri": "https://localhost:8080/",
          "height": 224
        },
        "outputId": "aab85d73-f75a-42a4-c2fd-ec52f7a6e6fb"
      },
      "source": [
        "coviddf.head()"
      ],
      "execution_count": 74,
      "outputs": [
        {
          "output_type": "execute_result",
          "data": {
            "text/html": [
              "<div>\n",
              "<style scoped>\n",
              "    .dataframe tbody tr th:only-of-type {\n",
              "        vertical-align: middle;\n",
              "    }\n",
              "\n",
              "    .dataframe tbody tr th {\n",
              "        vertical-align: top;\n",
              "    }\n",
              "\n",
              "    .dataframe thead th {\n",
              "        text-align: right;\n",
              "    }\n",
              "</style>\n",
              "<table border=\"1\" class=\"dataframe\">\n",
              "  <thead>\n",
              "    <tr style=\"text-align: right;\">\n",
              "      <th></th>\n",
              "      <th>county</th>\n",
              "      <th>state</th>\n",
              "      <th>fips</th>\n",
              "      <th>cases</th>\n",
              "      <th>deaths</th>\n",
              "      <th>confirmed_cases</th>\n",
              "      <th>confirmed_deaths</th>\n",
              "      <th>probable_cases</th>\n",
              "      <th>probable_deaths</th>\n",
              "      <th>NEVER</th>\n",
              "      <th>RARELY</th>\n",
              "      <th>SOMETIMES</th>\n",
              "      <th>FREQUENTLY</th>\n",
              "      <th>ALWAYS</th>\n",
              "    </tr>\n",
              "  </thead>\n",
              "  <tbody>\n",
              "    <tr>\n",
              "      <th>0</th>\n",
              "      <td>Autauga</td>\n",
              "      <td>Alabama</td>\n",
              "      <td>1001.0</td>\n",
              "      <td>1738</td>\n",
              "      <td>25.0</td>\n",
              "      <td>1565.0</td>\n",
              "      <td>24.0</td>\n",
              "      <td>173.0</td>\n",
              "      <td>1.0</td>\n",
              "      <td>0.053</td>\n",
              "      <td>0.074</td>\n",
              "      <td>0.134</td>\n",
              "      <td>0.295</td>\n",
              "      <td>0.444</td>\n",
              "    </tr>\n",
              "    <tr>\n",
              "      <th>1</th>\n",
              "      <td>Baldwin</td>\n",
              "      <td>Alabama</td>\n",
              "      <td>1003.0</td>\n",
              "      <td>5165</td>\n",
              "      <td>50.0</td>\n",
              "      <td>4979.0</td>\n",
              "      <td>46.0</td>\n",
              "      <td>186.0</td>\n",
              "      <td>4.0</td>\n",
              "      <td>0.083</td>\n",
              "      <td>0.059</td>\n",
              "      <td>0.098</td>\n",
              "      <td>0.323</td>\n",
              "      <td>0.436</td>\n",
              "    </tr>\n",
              "    <tr>\n",
              "      <th>2</th>\n",
              "      <td>Barbour</td>\n",
              "      <td>Alabama</td>\n",
              "      <td>1005.0</td>\n",
              "      <td>857</td>\n",
              "      <td>7.0</td>\n",
              "      <td>657.0</td>\n",
              "      <td>7.0</td>\n",
              "      <td>200.0</td>\n",
              "      <td>0.0</td>\n",
              "      <td>0.067</td>\n",
              "      <td>0.121</td>\n",
              "      <td>0.120</td>\n",
              "      <td>0.201</td>\n",
              "      <td>0.491</td>\n",
              "    </tr>\n",
              "    <tr>\n",
              "      <th>3</th>\n",
              "      <td>Bibb</td>\n",
              "      <td>Alabama</td>\n",
              "      <td>1007.0</td>\n",
              "      <td>642</td>\n",
              "      <td>10.0</td>\n",
              "      <td>611.0</td>\n",
              "      <td>6.0</td>\n",
              "      <td>31.0</td>\n",
              "      <td>4.0</td>\n",
              "      <td>0.020</td>\n",
              "      <td>0.034</td>\n",
              "      <td>0.096</td>\n",
              "      <td>0.278</td>\n",
              "      <td>0.572</td>\n",
              "    </tr>\n",
              "    <tr>\n",
              "      <th>4</th>\n",
              "      <td>Blount</td>\n",
              "      <td>Alabama</td>\n",
              "      <td>1009.0</td>\n",
              "      <td>1594</td>\n",
              "      <td>15.0</td>\n",
              "      <td>1236.0</td>\n",
              "      <td>15.0</td>\n",
              "      <td>358.0</td>\n",
              "      <td>0.0</td>\n",
              "      <td>0.053</td>\n",
              "      <td>0.114</td>\n",
              "      <td>0.180</td>\n",
              "      <td>0.194</td>\n",
              "      <td>0.459</td>\n",
              "    </tr>\n",
              "  </tbody>\n",
              "</table>\n",
              "</div>"
            ],
            "text/plain": [
              "    county    state    fips  cases  ...  RARELY  SOMETIMES  FREQUENTLY  ALWAYS\n",
              "0  Autauga  Alabama  1001.0   1738  ...   0.074      0.134       0.295   0.444\n",
              "1  Baldwin  Alabama  1003.0   5165  ...   0.059      0.098       0.323   0.436\n",
              "2  Barbour  Alabama  1005.0    857  ...   0.121      0.120       0.201   0.491\n",
              "3     Bibb  Alabama  1007.0    642  ...   0.034      0.096       0.278   0.572\n",
              "4   Blount  Alabama  1009.0   1594  ...   0.114      0.180       0.194   0.459\n",
              "\n",
              "[5 rows x 14 columns]"
            ]
          },
          "metadata": {
            "tags": []
          },
          "execution_count": 74
        }
      ]
    },
    {
      "cell_type": "code",
      "metadata": {
        "id": "qYewehPguq9m",
        "colab_type": "code",
        "colab": {}
      },
      "source": [
        ""
      ],
      "execution_count": null,
      "outputs": []
    },
    {
      "cell_type": "code",
      "metadata": {
        "id": "7G3bBPYeurAT",
        "colab_type": "code",
        "colab": {}
      },
      "source": [
        ""
      ],
      "execution_count": null,
      "outputs": []
    },
    {
      "cell_type": "code",
      "metadata": {
        "id": "V2Mok7dVurCx",
        "colab_type": "code",
        "colab": {}
      },
      "source": [
        ""
      ],
      "execution_count": null,
      "outputs": []
    },
    {
      "cell_type": "code",
      "metadata": {
        "id": "0BFN3n9jldMf",
        "colab_type": "code",
        "colab": {}
      },
      "source": [
        ""
      ],
      "execution_count": null,
      "outputs": []
    },
    {
      "cell_type": "code",
      "metadata": {
        "id": "cQ01TFVWhjUW",
        "colab_type": "code",
        "colab": {}
      },
      "source": [
        "cpop = pd.read_csv('/content/drive/My Drive/pyghack_data/PopulationEstimates.csv',\n",
        "                   header=0,delimiter=',',nrows=5)"
      ],
      "execution_count": 9,
      "outputs": []
    },
    {
      "cell_type": "code",
      "metadata": {
        "id": "jIBtx_GRhy63",
        "colab_type": "code",
        "colab": {
          "base_uri": "https://localhost:8080/",
          "height": 1000
        },
        "outputId": "a081262a-a91f-48b1-c1bf-350fc1146ced"
      },
      "source": [
        "cpop.columns.to_list()"
      ],
      "execution_count": 12,
      "outputs": [
        {
          "output_type": "execute_result",
          "data": {
            "text/plain": [
              "['FIPStxt',\n",
              " 'State',\n",
              " 'Area_Name',\n",
              " 'Rural-urban_Continuum Code_2003',\n",
              " 'Rural-urban_Continuum Code_2013',\n",
              " 'Urban_Influence_Code_2003',\n",
              " 'Urban_Influence_Code_2013',\n",
              " 'Economic_typology_2015',\n",
              " 'CENSUS_2010_POP',\n",
              " 'ESTIMATES_BASE_2010',\n",
              " 'POP_ESTIMATE_2010',\n",
              " 'POP_ESTIMATE_2011',\n",
              " 'POP_ESTIMATE_2012',\n",
              " 'POP_ESTIMATE_2013',\n",
              " 'POP_ESTIMATE_2014',\n",
              " 'POP_ESTIMATE_2015',\n",
              " 'POP_ESTIMATE_2016',\n",
              " 'POP_ESTIMATE_2017',\n",
              " 'POP_ESTIMATE_2018',\n",
              " 'POP_ESTIMATE_2019',\n",
              " 'N_POP_CHG_2010',\n",
              " 'N_POP_CHG_2011',\n",
              " 'N_POP_CHG_2012',\n",
              " 'N_POP_CHG_2013',\n",
              " 'N_POP_CHG_2014',\n",
              " 'N_POP_CHG_2015',\n",
              " 'N_POP_CHG_2016',\n",
              " 'N_POP_CHG_2017',\n",
              " 'N_POP_CHG_2018',\n",
              " 'N_POP_CHG_2019',\n",
              " 'Births_2010',\n",
              " 'Births_2011',\n",
              " 'Births_2012',\n",
              " 'Births_2013',\n",
              " 'Births_2014',\n",
              " 'Births_2015',\n",
              " 'Births_2016',\n",
              " 'Births_2017',\n",
              " 'Births_2018',\n",
              " 'Births_2019',\n",
              " 'Deaths_2010',\n",
              " 'Deaths_2011',\n",
              " 'Deaths_2012',\n",
              " 'Deaths_2013',\n",
              " 'Deaths_2014',\n",
              " 'Deaths_2015',\n",
              " 'Deaths_2016',\n",
              " 'Deaths_2017',\n",
              " 'Deaths_2018',\n",
              " 'Deaths_2019',\n",
              " 'NATURAL_INC_2010',\n",
              " 'NATURAL_INC_2011',\n",
              " 'NATURAL_INC_2012',\n",
              " 'NATURAL_INC_2013',\n",
              " 'NATURAL_INC_2014',\n",
              " 'NATURAL_INC_2015',\n",
              " 'NATURAL_INC_2016',\n",
              " 'NATURAL_INC_2017',\n",
              " 'NATURAL_INC_2018',\n",
              " 'NATURAL_INC_2019',\n",
              " 'INTERNATIONAL_MIG_2010',\n",
              " 'INTERNATIONAL_MIG_2011',\n",
              " 'INTERNATIONAL_MIG_2012',\n",
              " 'INTERNATIONAL_MIG_2013',\n",
              " 'INTERNATIONAL_MIG_2014',\n",
              " 'INTERNATIONAL_MIG_2015',\n",
              " 'INTERNATIONAL_MIG_2016',\n",
              " 'INTERNATIONAL_MIG_2017',\n",
              " 'INTERNATIONAL_MIG_2018',\n",
              " 'INTERNATIONAL_MIG_2019',\n",
              " 'DOMESTIC_MIG_2010',\n",
              " 'DOMESTIC_MIG_2011',\n",
              " 'DOMESTIC_MIG_2012',\n",
              " 'DOMESTIC_MIG_2013',\n",
              " 'DOMESTIC_MIG_2014',\n",
              " 'DOMESTIC_MIG_2015',\n",
              " 'DOMESTIC_MIG_2016',\n",
              " 'DOMESTIC_MIG_2017',\n",
              " 'DOMESTIC_MIG_2018',\n",
              " 'DOMESTIC_MIG_2019',\n",
              " 'NET_MIG_2010',\n",
              " 'NET_MIG_2011',\n",
              " 'NET_MIG_2012',\n",
              " 'NET_MIG_2013',\n",
              " 'NET_MIG_2014',\n",
              " 'NET_MIG_2015',\n",
              " 'NET_MIG_2016',\n",
              " 'NET_MIG_2017',\n",
              " 'NET_MIG_2018',\n",
              " 'NET_MIG_2019',\n",
              " 'RESIDUAL_2010',\n",
              " 'RESIDUAL_2011',\n",
              " 'RESIDUAL_2012',\n",
              " 'RESIDUAL_2013',\n",
              " 'RESIDUAL_2014',\n",
              " 'RESIDUAL_2015',\n",
              " 'RESIDUAL_2016',\n",
              " 'RESIDUAL_2017',\n",
              " 'RESIDUAL_2018',\n",
              " 'RESIDUAL_2019',\n",
              " 'GQ_ESTIMATES_BASE_2010',\n",
              " 'GQ_ESTIMATES_2010',\n",
              " 'GQ_ESTIMATES_2011',\n",
              " 'GQ_ESTIMATES_2012',\n",
              " 'GQ_ESTIMATES_2013',\n",
              " 'GQ_ESTIMATES_2014',\n",
              " 'GQ_ESTIMATES_2015',\n",
              " 'GQ_ESTIMATES_2016',\n",
              " 'GQ_ESTIMATES_2017',\n",
              " 'GQ_ESTIMATES_2018',\n",
              " 'GQ_ESTIMATES_2019',\n",
              " 'R_birth_2011',\n",
              " 'R_birth_2012',\n",
              " 'R_birth_2013',\n",
              " 'R_birth_2014',\n",
              " 'R_birth_2015',\n",
              " 'R_birth_2016',\n",
              " 'R_birth_2017',\n",
              " 'R_birth_2018',\n",
              " 'R_birth_2019',\n",
              " 'R_death_2011',\n",
              " 'R_death_2012',\n",
              " 'R_death_2013',\n",
              " 'R_death_2014',\n",
              " 'R_death_2015',\n",
              " 'R_death_2016',\n",
              " 'R_death_2017',\n",
              " 'R_death_2018',\n",
              " 'R_death_2019',\n",
              " 'R_NATURAL_INC_2011',\n",
              " 'R_NATURAL_INC_2012',\n",
              " 'R_NATURAL_INC_2013',\n",
              " 'R_NATURAL_INC_2014',\n",
              " 'R_NATURAL_INC_2015',\n",
              " 'R_NATURAL_INC_2016',\n",
              " 'R_NATURAL_INC_2017',\n",
              " 'R_NATURAL_INC_2018',\n",
              " 'R_NATURAL_INC_2019',\n",
              " 'R_INTERNATIONAL_MIG_2011',\n",
              " 'R_INTERNATIONAL_MIG_2012',\n",
              " 'R_INTERNATIONAL_MIG_2013',\n",
              " 'R_INTERNATIONAL_MIG_2014',\n",
              " 'R_INTERNATIONAL_MIG_2015',\n",
              " 'R_INTERNATIONAL_MIG_2016',\n",
              " 'R_INTERNATIONAL_MIG_2017',\n",
              " 'R_INTERNATIONAL_MIG_2018',\n",
              " 'R_INTERNATIONAL_MIG_2019',\n",
              " 'R_DOMESTIC_MIG_2011',\n",
              " 'R_DOMESTIC_MIG_2012',\n",
              " 'R_DOMESTIC_MIG_2013',\n",
              " 'R_DOMESTIC_MIG_2014',\n",
              " 'R_DOMESTIC_MIG_2015',\n",
              " 'R_DOMESTIC_MIG_2016',\n",
              " 'R_DOMESTIC_MIG_2017',\n",
              " 'R_DOMESTIC_MIG_2018',\n",
              " 'R_DOMESTIC_MIG_2019',\n",
              " 'R_NET_MIG_2011',\n",
              " 'R_NET_MIG_2012',\n",
              " 'R_NET_MIG_2013',\n",
              " 'R_NET_MIG_2014',\n",
              " 'R_NET_MIG_2015',\n",
              " 'R_NET_MIG_2016',\n",
              " 'R_NET_MIG_2017',\n",
              " 'R_NET_MIG_2018',\n",
              " 'R_NET_MIG_2019']"
            ]
          },
          "metadata": {
            "tags": []
          },
          "execution_count": 12
        }
      ]
    },
    {
      "cell_type": "code",
      "metadata": {
        "id": "FSVMqSl4ijle",
        "colab_type": "code",
        "colab": {
          "base_uri": "https://localhost:8080/",
          "height": 289
        },
        "outputId": "64f9f8c3-360b-4a91-f969-447232be493c"
      },
      "source": [
        "usecols= [i for i in cpop.columns.to_list() if '2019' in i]\n",
        "usecols"
      ],
      "execution_count": 13,
      "outputs": [
        {
          "output_type": "execute_result",
          "data": {
            "text/plain": [
              "['POP_ESTIMATE_2019',\n",
              " 'N_POP_CHG_2019',\n",
              " 'Births_2019',\n",
              " 'Deaths_2019',\n",
              " 'NATURAL_INC_2019',\n",
              " 'INTERNATIONAL_MIG_2019',\n",
              " 'DOMESTIC_MIG_2019',\n",
              " 'NET_MIG_2019',\n",
              " 'RESIDUAL_2019',\n",
              " 'GQ_ESTIMATES_2019',\n",
              " 'R_birth_2019',\n",
              " 'R_death_2019',\n",
              " 'R_NATURAL_INC_2019',\n",
              " 'R_INTERNATIONAL_MIG_2019',\n",
              " 'R_DOMESTIC_MIG_2019',\n",
              " 'R_NET_MIG_2019']"
            ]
          },
          "metadata": {
            "tags": []
          },
          "execution_count": 13
        }
      ]
    },
    {
      "cell_type": "code",
      "metadata": {
        "id": "sKYZiZTYj4sm",
        "colab_type": "code",
        "colab": {}
      },
      "source": [
        ""
      ],
      "execution_count": null,
      "outputs": []
    }
  ]
}